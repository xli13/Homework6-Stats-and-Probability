{
 "cells": [
  {
   "cell_type": "markdown",
   "metadata": {},
   "source": [
    "# HW 6 Statistics and probability homework\n",
    "\n",
    "Complete homework notebook in a homework directory with your name and zip up the homework directory and submit it to our class blackboard/elearn site.\n",
    "Complete all the parts 6.1 to 6.5 for score of 3.  \n",
    "\n",
    "Investigate plotting, linearegression, or complex matrix manipulation to get a score of 4 or cover two additional investigations for a score of 5. \n",
    "\n",
    "## 6.1 Coin flipping "
   ]
  },
  {
   "cell_type": "code",
   "execution_count": 1,
   "metadata": {},
   "outputs": [],
   "source": [
    "import numpy as np\n",
    "from collections import Counter\n",
    "import matplotlib.pyplot as plt\n",
    "import pandas as pd\n",
    "from __future__ import division"
   ]
  },
  {
   "cell_type": "markdown",
   "metadata": {},
   "source": [
    "\n",
    "## 6.1.1\n",
    "Write a function, flip_sum,  which generates $n$ random coin flips from a fair coin and then returns the number of heads. \n",
    "\n",
    "A fair coin is defined to be a coin where $P($heads$)=\\frac{1}{2}$\n",
    "\n",
    "The output type should be a numpy integer, hint: use random.rand()\n"
   ]
  },
  {
   "cell_type": "code",
   "execution_count": 2,
   "metadata": {},
   "outputs": [],
   "source": [
    "def flip_sum(n):\n",
    "    exp=np.random.randint(2,size=n)\n",
    "    count=Counter(exp)\n",
    "    return count[1]"
   ]
  },
  {
   "cell_type": "markdown",
   "metadata": {},
   "source": [
    "## 6.1.2 Test it \n",
    "Check it by showing the results of 100 coins being flipped"
   ]
  },
  {
   "cell_type": "code",
   "execution_count": 3,
   "metadata": {},
   "outputs": [
    {
     "name": "stdout",
     "output_type": "stream",
     "text": [
      "53\n"
     ]
    }
   ],
   "source": [
    "print flip_sum(100)"
   ]
  },
  {
   "cell_type": "markdown",
   "metadata": {},
   "source": [
    "## 6.1.3 Create and display a histogram of 200 experiments of flipping 5 coins."
   ]
  },
  {
   "cell_type": "code",
   "execution_count": 4,
   "metadata": {},
   "outputs": [
    {
     "data": {
      "text/plain": [
       "<matplotlib.axes._subplots.AxesSubplot at 0x10fb5a3d0>"
      ]
     },
     "execution_count": 4,
     "metadata": {},
     "output_type": "execute_result"
    },
    {
     "data": {
      "image/png": "[encoded data removed]",
      "text/plain": [
       "<Figure size 432x288 with 1 Axes>"
      ]
     },
     "metadata": {},
     "output_type": "display_data"
    }
   ],
   "source": [
    "data=[flip_sum(5) for i in range(200)]\n",
    "Showdata=pd.Series(data)\n",
    "Showdata.plot.hist()"
   ]
  },
  {
   "cell_type": "markdown",
   "metadata": {},
   "source": [
    "## 6.1.4\n",
    "Write a function, estimate_prob, that uses flip_sum to estimate the following probability:\n",
    "\n",
    "$P(  k_1 <= $ number of heads in $n$ flips $< k_2 ) $\n",
    "\n",
    "The function should estimate the probability by running $m$ different trials of flip_sum(n), probably using a for loop.\n",
    "\n",
    "In order to receive full credit estimate_prob call flip_sum (aka: flip_sum is located inside the estimate_prob function)"
   ]
  },
  {
   "cell_type": "code",
   "execution_count": 5,
   "metadata": {},
   "outputs": [],
   "source": [
    "def estimate_prob(n,k1,k2,m):\n",
    "    \"\"\"Estimate the probability that n flips of a fair coin result in k1 to k2 heads\n",
    "         n: the number of coin flips (length of the sequence)\n",
    "         k1,k2: the trial is successful if the number of heads is \n",
    "                between k1 and k2-1\n",
    "         m: the number of trials (number of sequences of length n)\n",
    "         \n",
    "         output: the estimated probability \n",
    "         \"\"\"\n",
    "    t=0\n",
    "    for i in range(m):\n",
    "        r= flip_sum(n)\n",
    "        if r>=k1 and r<k2:\n",
    "            t+=1\n",
    "    return t/m"
   ]
  },
  {
   "cell_type": "code",
   "execution_count": 6,
   "metadata": {},
   "outputs": [
    {
     "name": "stdout",
     "output_type": "stream",
     "text": [
      "0.67\n",
      "does x==0.687?\n"
     ]
    }
   ],
   "source": [
    "# this is a small sanity check\n",
    "x = estimate_prob(100,45,55,1000)\n",
    "print x\n",
    "assert 'float' in str(type(x))\n",
    "print \"does x==0.687?\""
   ]
  },
  {
   "cell_type": "markdown",
   "metadata": {},
   "source": [
    "## 6.2.2  Calculate the actual probablities and compare it to your estimates for:\n",
    "n= number of coins\n",
    "k1 = min number of heads\n",
    "k2 = upper limit of number of heads\n",
    "m = the number of experiments\n",
    "### 6.2.2.a n=100, k1 = 40, k2=60 m=100\n"
   ]
  },
  {
   "cell_type": "code",
   "execution_count": 7,
   "metadata": {},
   "outputs": [
    {
     "name": "stdout",
     "output_type": "stream",
     "text": [
      "0.96\n",
      "does x==0.955?\n"
     ]
    }
   ],
   "source": [
    "# this is a small sanity check\n",
    "\n",
    "\n",
    "x = estimate_prob(100,40,60,100)\n",
    "print x\n",
    "assert 'float' in str(type(x))\n",
    "print \"does x==0.955?\""
   ]
  },
  {
   "cell_type": "markdown",
   "metadata": {},
   "source": [
    "### 6.2.2.b n=100, k1 = 40, k2=60 m=1000"
   ]
  },
  {
   "cell_type": "code",
   "execution_count": 8,
   "metadata": {},
   "outputs": [
    {
     "name": "stdout",
     "output_type": "stream",
     "text": [
      "0.957\n",
      "does x==0.955?\n"
     ]
    }
   ],
   "source": [
    "# this is a small sanity check\n",
    "\n",
    "\n",
    "x = estimate_prob(100,40,60,1000)\n",
    "print x\n",
    "assert 'float' in str(type(x))\n",
    "print \"does x==0.955?\""
   ]
  },
  {
   "cell_type": "markdown",
   "metadata": {},
   "source": [
    "# 6.3 Conditional probablity"
   ]
  },
  {
   "cell_type": "markdown",
   "metadata": {},
   "source": [
    "In a recent study, the following data were obtained in response to the question\"\n",
    "    \"Do you favor the proposal of the school’s combining the elementary and middle school students in one building?\"\n",
    "    \n",
    "Answers = [Yes, No, No opinion]\n",
    "Males = [75, 89, 10]\n",
    "Females = [105, 56, 6]\n",
    "\n",
    "If a person is selected at random, find these probabilities solving using python.\n",
    "1. The person has no opinion\n",
    "2. The person is a male or is against the issue.\n",
    "3. The person is a female, given that the person opposes the issue."
   ]
  },
  {
   "cell_type": "code",
   "execution_count": 9,
   "metadata": {},
   "outputs": [
    {
     "name": "stdout",
     "output_type": "stream",
     "text": [
      "Probobility of the person has no opinion: 0.046921\n",
      "probobility of the person is male or is against the issue: 0.674487\n",
      "probobility of the person is female, given that the person opposes the issue:0.386207\n"
     ]
    }
   ],
   "source": [
    "Males=[75,89,10]\n",
    "Females=[105,56,6]\n",
    "Mnum=sum(Males)\n",
    "Fnum=sum(Females)\n",
    "Allnum=Mnum+Fnum\n",
    "print 'Probobility of the person has no opinion: %f' %((Males[2]+Females[2])/Allnum)\n",
    "Pmale=Mnum/Allnum\n",
    "PNo=(Males[1]+Females[1])/Allnum\n",
    "PmaleNo=Males[1]/Allnum\n",
    "print 'probobility of the person is male or is against the issue: %f' %(Pmale+PNo-PmaleNo)\n",
    "print 'probobility of the person is female, given that the person opposes the issue:%f' %(Females[1]/(Females[1]+Males[1]))"
   ]
  },
  {
   "cell_type": "markdown",
   "metadata": {},
   "source": [
    "## 6.4 Matrix creation\n",
    "Write a 12 by 12 times table matrix shown below.\n",
    "Do this\n",
    "6.4.1 using nested for loops\n",
    "6.4.2 using numpy fromfunction array constructor\n",
    "6.4.3 using numpy broadcasting"
   ]
  },
  {
   "cell_type": "code",
   "execution_count": 15,
   "metadata": {},
   "outputs": [
    {
     "data": {
      "text/plain": [
       "array([[  1,   2,   3,   4,   5,   6,   7,   8,   9,  10,  11,  12],\n",
       "       [  2,   4,   6,   8,  10,  12,  14,  16,  18,  20,  22,  24],\n",
       "       [  3,   6,   9,  12,  15,  18,  21,  24,  27,  30,  33,  36],\n",
       "       [  4,   8,  12,  16,  20,  24,  28,  32,  36,  40,  44,  48],\n",
       "       [  5,  10,  15,  20,  25,  30,  35,  40,  45,  50,  55,  60],\n",
       "       [  6,  12,  18,  24,  30,  36,  42,  48,  54,  60,  66,  72],\n",
       "       [  7,  14,  21,  28,  35,  42,  49,  56,  63,  70,  77,  84],\n",
       "       [  8,  16,  24,  32,  40,  48,  56,  64,  72,  80,  88,  96],\n",
       "       [  9,  18,  27,  36,  45,  54,  63,  72,  81,  90,  99, 108],\n",
       "       [ 10,  20,  30,  40,  50,  60,  70,  80,  90, 100, 110, 120],\n",
       "       [ 11,  22,  33,  44,  55,  66,  77,  88,  99, 110, 121, 132],\n",
       "       [ 12,  24,  36,  48,  60,  72,  84,  96, 108, 120, 132, 144]])"
      ]
     },
     "execution_count": 15,
     "metadata": {},
     "output_type": "execute_result"
    }
   ],
   "source": [
    "from numpy import array \n",
    "array([[  1,   2,   3,   4,   5,   6,   7,   8,   9,  10,  11,  12],\n",
    "   [  2,   4,   6,   8,  10,  12,  14,  16,  18,  20,  22,  24],\n",
    "   [  3,   6,   9,  12,  15,  18,  21,  24,  27,  30,  33,  36],\n",
    "   [  4,   8,  12,  16,  20,  24,  28,  32,  36,  40,  44,  48],\n",
    "   [  5,  10,  15,  20,  25,  30,  35,  40,  45,  50,  55,  60],\n",
    "   [  6,  12,  18,  24,  30,  36,  42,  48,  54,  60,  66,  72],\n",
    "   [  7,  14,  21,  28,  35,  42,  49,  56,  63,  70,  77,  84],\n",
    "   [  8,  16,  24,  32,  40,  48,  56,  64,  72,  80,  88,  96],\n",
    "   [  9,  18,  27,  36,  45,  54,  63,  72,  81,  90,  99, 108],\n",
    "   [ 10,  20,  30,  40,  50,  60,  70,  80,  90, 100, 110, 120],\n",
    "   [ 11,  22,  33,  44,  55,  66,  77,  88,  99, 110, 121, 132],\n",
    "   [ 12,  24,  36,  48,  60,  72,  84,  96, 108, 120, 132, 144]])"
   ]
  },
  {
   "cell_type": "code",
   "execution_count": 16,
   "metadata": {},
   "outputs": [
    {
     "data": {
      "text/plain": [
       "array([[  1,   2,   3,   4,   5,   6,   7,   8,   9,  10,  11,  12],\n",
       "       [  2,   4,   6,   8,  10,  12,  14,  16,  18,  20,  22,  24],\n",
       "       [  3,   6,   9,  12,  15,  18,  21,  24,  27,  30,  33,  36],\n",
       "       [  4,   8,  12,  16,  20,  24,  28,  32,  36,  40,  44,  48],\n",
       "       [  5,  10,  15,  20,  25,  30,  35,  40,  45,  50,  55,  60],\n",
       "       [  6,  12,  18,  24,  30,  36,  42,  48,  54,  60,  66,  72],\n",
       "       [  7,  14,  21,  28,  35,  42,  49,  56,  63,  70,  77,  84],\n",
       "       [  8,  16,  24,  32,  40,  48,  56,  64,  72,  80,  88,  96],\n",
       "       [  9,  18,  27,  36,  45,  54,  63,  72,  81,  90,  99, 108],\n",
       "       [ 10,  20,  30,  40,  50,  60,  70,  80,  90, 100, 110, 120],\n",
       "       [ 11,  22,  33,  44,  55,  66,  77,  88,  99, 110, 121, 132],\n",
       "       [ 12,  24,  36,  48,  60,  72,  84,  96, 108, 120, 132, 144]])"
      ]
     },
     "execution_count": 16,
     "metadata": {},
     "output_type": "execute_result"
    }
   ],
   "source": [
    "# 6.4.1 using nested for loops\n",
    "array ([[i*j for j in range(1,13)] for i in range(1,13)])"
   ]
  },
  {
   "cell_type": "code",
   "execution_count": 17,
   "metadata": {},
   "outputs": [
    {
     "data": {
      "text/plain": [
       "array([[  1,   2,   3,   4,   5,   6,   7,   8,   9,  10,  11,  12],\n",
       "       [  2,   4,   6,   8,  10,  12,  14,  16,  18,  20,  22,  24],\n",
       "       [  3,   6,   9,  12,  15,  18,  21,  24,  27,  30,  33,  36],\n",
       "       [  4,   8,  12,  16,  20,  24,  28,  32,  36,  40,  44,  48],\n",
       "       [  5,  10,  15,  20,  25,  30,  35,  40,  45,  50,  55,  60],\n",
       "       [  6,  12,  18,  24,  30,  36,  42,  48,  54,  60,  66,  72],\n",
       "       [  7,  14,  21,  28,  35,  42,  49,  56,  63,  70,  77,  84],\n",
       "       [  8,  16,  24,  32,  40,  48,  56,  64,  72,  80,  88,  96],\n",
       "       [  9,  18,  27,  36,  45,  54,  63,  72,  81,  90,  99, 108],\n",
       "       [ 10,  20,  30,  40,  50,  60,  70,  80,  90, 100, 110, 120],\n",
       "       [ 11,  22,  33,  44,  55,  66,  77,  88,  99, 110, 121, 132],\n",
       "       [ 12,  24,  36,  48,  60,  72,  84,  96, 108, 120, 132, 144]])"
      ]
     },
     "execution_count": 17,
     "metadata": {},
     "output_type": "execute_result"
    }
   ],
   "source": [
    " # 6.4.2 using numpy fromfunction array constructor\n",
    "def fun(i,j):\n",
    "    return (i+1)*(j+1)\n",
    "\n",
    "array1=np.fromfunction(fun,(12,12), dtype=int)\n",
    "array1"
   ]
  },
  {
   "cell_type": "code",
   "execution_count": 18,
   "metadata": {},
   "outputs": [
    {
     "data": {
      "text/plain": [
       "array([[  1,   2,   3,   4,   5,   6,   7,   8,   9,  10,  11,  12],\n",
       "       [  2,   4,   6,   8,  10,  12,  14,  16,  18,  20,  22,  24],\n",
       "       [  3,   6,   9,  12,  15,  18,  21,  24,  27,  30,  33,  36],\n",
       "       [  4,   8,  12,  16,  20,  24,  28,  32,  36,  40,  44,  48],\n",
       "       [  5,  10,  15,  20,  25,  30,  35,  40,  45,  50,  55,  60],\n",
       "       [  6,  12,  18,  24,  30,  36,  42,  48,  54,  60,  66,  72],\n",
       "       [  7,  14,  21,  28,  35,  42,  49,  56,  63,  70,  77,  84],\n",
       "       [  8,  16,  24,  32,  40,  48,  56,  64,  72,  80,  88,  96],\n",
       "       [  9,  18,  27,  36,  45,  54,  63,  72,  81,  90,  99, 108],\n",
       "       [ 10,  20,  30,  40,  50,  60,  70,  80,  90, 100, 110, 120],\n",
       "       [ 11,  22,  33,  44,  55,  66,  77,  88,  99, 110, 121, 132],\n",
       "       [ 12,  24,  36,  48,  60,  72,  84,  96, 108, 120, 132, 144]])"
      ]
     },
     "execution_count": 18,
     "metadata": {},
     "output_type": "execute_result"
    }
   ],
   "source": [
    "#6.4.3 using numpy broadcasting\n",
    "s=np.arange(1,13)\n",
    "ma=s.reshape(12,1)\n",
    "x=np.arange(1,13)\n",
    "ma*x"
   ]
  },
  {
   "cell_type": "markdown",
   "metadata": {
    "collapsed": true
   },
   "source": [
    "## 6.5 \n",
    "Answer the following questions with respect to the\n",
    "https://data.cdc.gov/NCHS/NCHS-Leading-Causes-of-Death-United-States/bi63-dtpu\n",
    "    \n",
    "    \n",
    "How many patients were censored?\n",
    "What is the correlation coefficient between state and Suicide for deaths above 100 ?\n",
    "What is the average deaths for each state and type of cause ?\n",
    "What is the year that was the most deadly for each cause name ?"
   ]
  },
  {
   "cell_type": "code",
   "execution_count": 31,
   "metadata": {},
   "outputs": [
    {
     "data": {
      "text/html": [
       "<div>\n",
       "<style scoped>\n",
       "    .dataframe tbody tr th:only-of-type {\n",
       "        vertical-align: middle;\n",
       "    }\n",
       "\n",
       "    .dataframe tbody tr th {\n",
       "        vertical-align: top;\n",
       "    }\n",
       "\n",
       "    .dataframe thead th {\n",
       "        text-align: right;\n",
       "    }\n",
       "</style>\n",
       "<table border=\"1\" class=\"dataframe\">\n",
       "  <thead>\n",
       "    <tr style=\"text-align: right;\">\n",
       "      <th></th>\n",
       "      <th>Year</th>\n",
       "      <th>113 Cause Name</th>\n",
       "      <th>Cause Name</th>\n",
       "      <th>State</th>\n",
       "      <th>Deaths</th>\n",
       "      <th>Age-adjusted Death Rate</th>\n",
       "    </tr>\n",
       "  </thead>\n",
       "  <tbody>\n",
       "    <tr>\n",
       "      <th>0</th>\n",
       "      <td>2016</td>\n",
       "      <td>Accidents (unintentional injuries) (V01-X59,Y8...</td>\n",
       "      <td>Unintentional injuries</td>\n",
       "      <td>Alabama</td>\n",
       "      <td>2755</td>\n",
       "      <td>55.5</td>\n",
       "    </tr>\n",
       "    <tr>\n",
       "      <th>1</th>\n",
       "      <td>2016</td>\n",
       "      <td>Accidents (unintentional injuries) (V01-X59,Y8...</td>\n",
       "      <td>Unintentional injuries</td>\n",
       "      <td>Alaska</td>\n",
       "      <td>439</td>\n",
       "      <td>63.1</td>\n",
       "    </tr>\n",
       "    <tr>\n",
       "      <th>2</th>\n",
       "      <td>2016</td>\n",
       "      <td>Accidents (unintentional injuries) (V01-X59,Y8...</td>\n",
       "      <td>Unintentional injuries</td>\n",
       "      <td>Arizona</td>\n",
       "      <td>4010</td>\n",
       "      <td>54.2</td>\n",
       "    </tr>\n",
       "    <tr>\n",
       "      <th>3</th>\n",
       "      <td>2016</td>\n",
       "      <td>Accidents (unintentional injuries) (V01-X59,Y8...</td>\n",
       "      <td>Unintentional injuries</td>\n",
       "      <td>Arkansas</td>\n",
       "      <td>1604</td>\n",
       "      <td>51.8</td>\n",
       "    </tr>\n",
       "    <tr>\n",
       "      <th>4</th>\n",
       "      <td>2016</td>\n",
       "      <td>Accidents (unintentional injuries) (V01-X59,Y8...</td>\n",
       "      <td>Unintentional injuries</td>\n",
       "      <td>California</td>\n",
       "      <td>13213</td>\n",
       "      <td>32.0</td>\n",
       "    </tr>\n",
       "  </tbody>\n",
       "</table>\n",
       "</div>"
      ],
      "text/plain": [
       "   Year                                     113 Cause Name  \\\n",
       "0  2016  Accidents (unintentional injuries) (V01-X59,Y8...   \n",
       "1  2016  Accidents (unintentional injuries) (V01-X59,Y8...   \n",
       "2  2016  Accidents (unintentional injuries) (V01-X59,Y8...   \n",
       "3  2016  Accidents (unintentional injuries) (V01-X59,Y8...   \n",
       "4  2016  Accidents (unintentional injuries) (V01-X59,Y8...   \n",
       "\n",
       "               Cause Name       State  Deaths  Age-adjusted Death Rate  \n",
       "0  Unintentional injuries     Alabama    2755                     55.5  \n",
       "1  Unintentional injuries      Alaska     439                     63.1  \n",
       "2  Unintentional injuries     Arizona    4010                     54.2  \n",
       "3  Unintentional injuries    Arkansas    1604                     51.8  \n",
       "4  Unintentional injuries  California   13213                     32.0  "
      ]
     },
     "execution_count": 31,
     "metadata": {},
     "output_type": "execute_result"
    }
   ],
   "source": [
    "import pandas as pd\n",
    "dfh = pd.read_csv(\"data/NCHS_-_Leading_Causes_of_Death__United_States.csv\")\n",
    "dfh.head()"
   ]
  },
  {
   "cell_type": "code",
   "execution_count": 32,
   "metadata": {},
   "outputs": [
    {
     "name": "stdout",
     "output_type": "stream",
     "text": [
      "How mant patients were censored?\n",
      "89405359\n"
     ]
    }
   ],
   "source": [
    "DeathAll=dfh[dfh['Cause Name']=='All causes']\n",
    "print 'How mant patients were censored?'\n",
    "print DeathAll ['Deaths'].sum()"
   ]
  },
  {
   "cell_type": "code",
   "execution_count": 36,
   "metadata": {},
   "outputs": [
    {
     "name": "stdout",
     "output_type": "stream",
     "text": [
      "[551, 555, 556, 556, 557, 555, 555, 557, 557, 558, 559, 561, 562, 559, 561, 562, 562, 562]\n",
      "[45, 45, 47, 46, 47, 46, 46, 47, 47, 49, 49, 51, 51, 50, 51, 51, 51, 51]\n",
      "What is the correlation coefficient between state and Suicide for deaths above 100 ?\n",
      "0.9542271840975416\n"
     ]
    }
   ],
   "source": [
    "Data1=dfh[dfh['Deaths']>100]\n",
    "Years=dfh['Year'].unique()\n",
    "Years.sort()\n",
    "StateNum=[]\n",
    "SuicideNum=[]\n",
    "for i in Years:\n",
    "    k=Data1[Data1['Year']==i]\n",
    "    StateNum.append(len(k))\n",
    "    SuicideNum.append(len(k[k['Cause Name']=='Suicide']))\n",
    "print StateNum\n",
    "print SuicideNum\n",
    "s1=pd.Series(StateNum)\n",
    "s2=pd.Series(SuicideNum)\n",
    "print 'What is the correlation coefficient between state and Suicide for deaths above 100 ?'\n",
    "print s1.corr(s2)"
   ]
  },
  {
   "cell_type": "code",
   "execution_count": 38,
   "metadata": {},
   "outputs": [
    {
     "name": "stdout",
     "output_type": "stream",
     "text": [
      "State          Cause Name             \n",
      "Alabama        All causes                 47823.833333\n",
      "               Alzheimer's disease         1479.833333\n",
      "               CLRD                        2654.333333\n",
      "               Cancer                     10043.333333\n",
      "               Diabetes                    1341.277778\n",
      "               Heart disease              12635.166667\n",
      "               Influenza and pneumonia     1028.666667\n",
      "               Kidney disease              1049.944444\n",
      "               Stroke                      2861.500000\n",
      "               Suicide                      624.500000\n",
      "               Unintentional injuries      2398.222222\n",
      "Alaska         All causes                  3521.000000\n",
      "               Alzheimer's disease           66.888889\n",
      "               CLRD                         171.833333\n",
      "               Cancer                       835.111111\n",
      "               Diabetes                      99.444444\n",
      "               Heart disease                672.611111\n",
      "               Influenza and pneumonia       51.833333\n",
      "               Kidney disease                40.500000\n",
      "               Stroke                       172.611111\n",
      "               Suicide                      148.888889\n",
      "               Unintentional injuries       350.444444\n",
      "Arizona        All causes                 46561.500000\n",
      "               Alzheimer's disease         1988.833333\n",
      "               CLRD                        2929.444444\n",
      "               Cancer                     10275.444444\n",
      "               Diabetes                    1401.944444\n",
      "               Heart disease              10725.722222\n",
      "               Influenza and pneumonia     1011.555556\n",
      "               Kidney disease               520.055556\n",
      "                                              ...     \n",
      "West Virginia  Cancer                      4706.333333\n",
      "               Diabetes                     789.222222\n",
      "               Heart disease               5421.944444\n",
      "               Influenza and pneumonia      462.833333\n",
      "               Kidney disease               456.166667\n",
      "               Stroke                      1146.666667\n",
      "               Suicide                      290.000000\n",
      "               Unintentional injuries      1172.500000\n",
      "Wisconsin      All causes                 47646.222222\n",
      "               Alzheimer's disease         1607.055556\n",
      "               CLRD                        2494.500000\n",
      "               Cancer                     11070.388889\n",
      "               Diabetes                    1272.333333\n",
      "               Heart disease              11862.611111\n",
      "               Influenza and pneumonia     1103.777778\n",
      "               Kidney disease               936.611111\n",
      "               Stroke                      2910.333333\n",
      "               Suicide                      716.111111\n",
      "               Unintentional injuries      2583.166667\n",
      "Wyoming        All causes                  4303.666667\n",
      "               Alzheimer's disease          126.666667\n",
      "               CLRD                         320.611111\n",
      "               Cancer                       922.111111\n",
      "               Diabetes                     119.222222\n",
      "               Heart disease                981.555556\n",
      "               Influenza and pneumonia      117.222222\n",
      "               Kidney disease                61.666667\n",
      "               Stroke                       225.500000\n",
      "               Suicide                      116.222222\n",
      "               Unintentional injuries       309.166667\n",
      "Name: Deaths, Length: 572, dtype: float64\n",
      "State\n",
      "Alabama                   7630.964646\n",
      "Alaska                     557.378788\n",
      "Arizona                   7433.116162\n",
      "Arkansas                  4695.121212\n",
      "California               38861.429293\n",
      "Colorado                  4917.909091\n",
      "Connecticut               4684.909091\n",
      "Delaware                  1206.742424\n",
      "District of Columbia       809.904040\n",
      "Florida                  27839.070707\n",
      "Georgia                  11021.388889\n",
      "Hawaii                    1518.525253\n",
      "Idaho                     1773.080808\n",
      "Illinois                 16664.282828\n",
      "Indiana                   9197.762626\n",
      "Iowa                      4553.015152\n",
      "Kansas                    3966.656566\n",
      "Kentucky                  6769.828283\n",
      "Louisiana                 6713.343434\n",
      "Maine                     2060.414141\n",
      "Maryland                  6994.520202\n",
      "Massachusetts             8650.565657\n",
      "Michigan                 14339.601010\n",
      "Minnesota                 6122.338384\n",
      "Mississippi               4722.681818\n",
      "Missouri                  9075.303030\n",
      "Montana                   1400.277778\n",
      "Nebraska                  2444.994949\n",
      "Nevada                    3075.914141\n",
      "New Hampshire             1678.196970\n",
      "New Jersey               11451.772727\n",
      "New Mexico                2470.732323\n",
      "New York                 24693.106061\n",
      "North Carolina           12359.757576\n",
      "North Dakota               964.808081\n",
      "Ohio                     17682.439394\n",
      "Oklahoma                  5915.116162\n",
      "Oregon                    5056.898990\n",
      "Pennsylvania             20553.939394\n",
      "Rhode Island              1566.186869\n",
      "South Carolina            6460.772727\n",
      "South Dakota              1162.176768\n",
      "Tennessee                 9544.565657\n",
      "Texas                    26223.939394\n",
      "United States           397420.934343\n",
      "Utah                      2230.818182\n",
      "Vermont                    852.510101\n",
      "Virginia                  9451.737374\n",
      "Washington                7756.959596\n",
      "West Virginia             3442.712121\n",
      "Wisconsin                 7654.828283\n",
      "Wyoming                    691.237374\n",
      "Name: Deaths, dtype: float64\n"
     ]
    }
   ],
   "source": [
    "data1=dfh['Deaths'].groupby([dfh['State'],dfh['Cause Name']]).mean()\n",
    "data2=dfh['Deaths'].groupby([dfh['State']]).mean()\n",
    "print data1\n",
    "print data2"
   ]
  },
  {
   "cell_type": "code",
   "execution_count": 43,
   "metadata": {},
   "outputs": [
    {
     "name": "stdout",
     "output_type": "stream",
     "text": [
      "What is the year that was the most deadly for each cause name ?\n",
      "Unintentional injuries     2016\n",
      "All causes                 2015\n",
      "Alzheimer's disease        2016\n",
      "Cancer                     2016\n",
      "CLRD                       2015\n",
      "Diabetes                   2016\n",
      "Heart disease              1999\n",
      "Influenza and pneumonia    2002\n",
      "Kidney disease             2010\n",
      "Stroke                     2000\n",
      "Suicide                    2016\n",
      "dtype: int64\n"
     ]
    }
   ],
   "source": [
    "Causes=dfh['Cause Name'].unique()\n",
    "Years=pd.Series([])\n",
    "for i in Causes:\n",
    "    k=dfh[dfh['Cause Name']==i]\n",
    "    a=k['Deaths'].groupby(k['Year']).sum().sort_values(ascending=False)\n",
    "    Years[i]=a.index[0]\n",
    "\n",
    "print 'What is the year that was the most deadly for each cause name ?'    \n",
    "print Years"
   ]
  },
  {
   "cell_type": "code",
   "execution_count": null,
   "metadata": {},
   "outputs": [],
   "source": []
  }
 ],
 "metadata": {
  "kernelspec": {
   "display_name": "Python 2",
   "language": "python",
   "name": "python2"
  },
  "language_info": {
   "codemirror_mode": {
    "name": "ipython",
    "version": 2
   },
   "file_extension": ".py",
   "mimetype": "text/x-python",
   "name": "python",
   "nbconvert_exporter": "python",
   "pygments_lexer": "ipython2",
   "version": "2.7.15"
  }
 },
 "nbformat": 4,
 "nbformat_minor": 2
}
